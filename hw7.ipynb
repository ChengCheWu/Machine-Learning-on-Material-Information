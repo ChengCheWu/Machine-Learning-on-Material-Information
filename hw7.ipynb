{
 "cells": [
  {
   "cell_type": "code",
   "execution_count": 74,
   "id": "a3392ae5",
   "metadata": {},
   "outputs": [],
   "source": [
    "import matplotlib\n",
    "import numpy as np\n",
    "from PIL import Image\n",
    "import matplotlib.pyplot as plt\n",
    "%matplotlib inline"
   ]
  },
  {
   "cell_type": "code",
   "execution_count": 75,
   "id": "5a81d92a",
   "metadata": {},
   "outputs": [],
   "source": [
    "block = np.ones((10,10))\n",
    "block[1, 1] = 0\n",
    "block[4, 1] = 0\n",
    "block[1:5, 2] = 0\n",
    "block[1:5, 3] = 0\n",
    "block[6:9, 3] = 0\n",
    "block[1:3, 4] = 0\n",
    "block[6:9, 4] = 0\n",
    "block[6:9, 5] = 0\n",
    "block[2:5, 6] = 0\n",
    "block[7:10, 6] = 0\n",
    "block[2:5, 7] = 0\n",
    "block[1:7, 8] = 0\n",
    "block[1:4, 9] = 0\n",
    "n_block = block.copy()"
   ]
  },
  {
   "cell_type": "code",
   "execution_count": 76,
   "id": "23618055",
   "metadata": {},
   "outputs": [],
   "source": [
    "d = [(1, 0), (-1, 0), (0, 1), (0, -1)]\n",
    "def detected(p, r, c, d):\n",
    "#point、row、column、direction\n",
    "    block[r,c] = 1\n",
    "    for r_d, c_d in d:\n",
    "        new_r = r + r_d\n",
    "        new_c = c + c_d\n",
    "        if new_r > 9 or new_c > 9 or new_r < 0 or new_c < 0:\n",
    "            continue\n",
    "        if block[new_r, new_c] == 0 :\n",
    "            detected(block, new_r, new_c, d)"
   ]
  },
  {
   "cell_type": "code",
   "execution_count": 77,
   "id": "2dccaa29",
   "metadata": {},
   "outputs": [
    {
     "name": "stdout",
     "output_type": "stream",
     "text": [
      "The number of islands are 3\n",
      "[12.0, 12.0, 15.0]\n",
      "[1, 2, 3]\n"
     ]
    }
   ],
   "source": [
    "n = 0\n",
    "island_s = []\n",
    "island_n = []\n",
    "island = []\n",
    "for y in range(10):\n",
    "    for x in range(10):\n",
    "        if block[x, y] == 0:\n",
    "            p = block[x, y]\n",
    "            detected(p, x, y, d)\n",
    "            island_s.append(np.sum(block) - np.sum(n_block))\n",
    "            island.append(block - n_block)\n",
    "            n_block = block.copy()  \n",
    "            n += 1\n",
    "            island_n.append(n)\n",
    "print('The number of islands are ' + str(n))\n",
    "print(island_s)\n",
    "print(island_n)"
   ]
  },
  {
   "cell_type": "code",
   "execution_count": 79,
   "id": "20f9615e",
   "metadata": {},
   "outputs": [
    {
     "name": "stdout",
     "output_type": "stream",
     "text": [
      "Island size is 12.0\n"
     ]
    },
    {
     "data": {
      "image/png": "[encoded data removed]",
      "text/plain": [
       "<Figure size 432x288 with 1 Axes>"
      ]
     },
     "metadata": {
      "needs_background": "light"
     },
     "output_type": "display_data"
    },
    {
     "name": "stdout",
     "output_type": "stream",
     "text": [
      "\n",
      "Island size is 12.0\n"
     ]
    },
    {
     "data": {
      "image/png": "[encoded data removed]",
      "text/plain": [
       "<Figure size 432x288 with 1 Axes>"
      ]
     },
     "metadata": {
      "needs_background": "light"
     },
     "output_type": "display_data"
    },
    {
     "name": "stdout",
     "output_type": "stream",
     "text": [
      "\n",
      "Island size is 15.0\n"
     ]
    },
    {
     "data": {
      "image/png": "[encoded data removed]",
      "text/plain": [
       "<Figure size 432x288 with 1 Axes>"
      ]
     },
     "metadata": {
      "needs_background": "light"
     },
     "output_type": "display_data"
    },
    {
     "name": "stdout",
     "output_type": "stream",
     "text": [
      "\n"
     ]
    }
   ],
   "source": [
    "for i in range(len(island_s)) :\n",
    "    s = island_s[i]\n",
    "    shape = island[i] * 255\n",
    "    new_shape = np.ones((block.shape[0], block.shape[1])) * 255\n",
    "    print('Island size is ' + str(island_s[i]))\n",
    "    plt.imshow(new_shape - shape, cmap=plt.cm.gray)\n",
    "    plt.show()\n",
    "    print()"
   ]
  },
  {
   "cell_type": "code",
   "execution_count": null,
   "id": "bcccac12",
   "metadata": {},
   "outputs": [],
   "source": []
  },
  {
   "cell_type": "code",
   "execution_count": null,
   "id": "f0020792",
   "metadata": {},
   "outputs": [],
   "source": []
  },
  {
   "cell_type": "code",
   "execution_count": null,
   "id": "324232c6",
   "metadata": {},
   "outputs": [],
   "source": []
  },
  {
   "cell_type": "code",
   "execution_count": null,
   "id": "4aada086",
   "metadata": {},
   "outputs": [],
   "source": []
  },
  {
   "cell_type": "code",
   "execution_count": null,
   "id": "38ef460f",
   "metadata": {},
   "outputs": [],
   "source": []
  }
 ],
 "metadata": {
  "kernelspec": {
   "display_name": "Python 3",
   "language": "python",
   "name": "python3"
  },
  "language_info": {
   "codemirror_mode": {
    "name": "ipython",
    "version": 3
   },
   "file_extension": ".py",
   "mimetype": "text/x-python",
   "name": "python",
   "nbconvert_exporter": "python",
   "pygments_lexer": "ipython3",
   "version": "3.8.8"
  }
 },
 "nbformat": 4,
 "nbformat_minor": 5
}
