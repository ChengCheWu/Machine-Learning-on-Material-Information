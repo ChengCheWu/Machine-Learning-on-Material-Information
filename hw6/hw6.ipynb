{
 "cells": [
  {
   "cell_type": "code",
   "execution_count": 1,
   "id": "bcd9bb81",
   "metadata": {},
   "outputs": [],
   "source": [
    "import numpy as np\n",
    "import pandas as pd\n",
    "import scipy.io\n",
    "import matplotlib.pyplot as plt\n",
    "import community\n",
    "import networkx as nx\n",
    "import math\n",
    "from sklearn.cluster import KMeans\n",
    "from sklearn import metrics\n",
    "from mpl_toolkits.mplot3d import Axes3D\n",
    "dot = scipy.io.loadmat('data\\XYZcoord1.mat')\n",
    "dot = np.array(dot['XYZ1'])\n",
    "weight = np.array(pd.read_csv('data\\Edges.csv'))"
   ]
  },
  {
   "cell_type": "code",
   "execution_count": 2,
   "id": "06405fed",
   "metadata": {},
   "outputs": [],
   "source": [
    "def distance(a,b):\n",
    "    x = (a[0]-b[0])**2+(a[1]-b[1])**2+(a[2]-b[2])**2\n",
    "    x = math.sqrt(x)\n",
    "    return x"
   ]
  },
  {
   "cell_type": "code",
   "execution_count": null,
   "id": "018a05a0",
   "metadata": {},
   "outputs": [],
   "source": [
    "X = np.empty(shape=[0, 3])\n",
    "\n",
    "for i in range(len(dot)):\n",
    "    for j in range(i+1, len(dot)):\n",
    "        d = distance(dot[i], dot[j])\n",
    "        pair = [i+1, j+1, 1/d]\n",
    "        X = np.vstack((X,pair))"
   ]
  },
  {
   "cell_type": "code",
   "execution_count": null,
   "id": "bb9f34c0",
   "metadata": {},
   "outputs": [],
   "source": [
    "a = nx.Graph()\n",
    "for i in range(len(weight)):    \n",
    "    c = ( str(int(weight[i,0])), str(int(weight[i,1])), weight[i,2] )\n",
    "    a.add_weighted_edges_from([(c)])"
   ]
  },
  {
   "cell_type": "code",
   "execution_count": null,
   "id": "0b19cb22",
   "metadata": {},
   "outputs": [],
   "source": [
    "b = nx.Graph()\n",
    "for i in range(0, len(X)):    \n",
    "    d = ( str(int(X[i,0])), str(int(X[i,1])), X[i,2] )\n",
    "    b.add_weighted_edges_from([(d)])   \n"
   ]
  },
  {
   "cell_type": "code",
   "execution_count": null,
   "id": "310ca506",
   "metadata": {},
   "outputs": [],
   "source": [
    "from community import best_partition\n",
    "p = best_partition(a)\n",
    "s = float(len(set(p.values())))\n",
    "print(\"geo_community:\", s)\n",
    "m = community.modularity(p,a)\n",
    "print(\"geo_modularity:\", m)\n",
    "\n",
    "p2 = best_partition(b)\n",
    "size = float(len(set(p2.values())))\n",
    "print(\"euc_community:\", size)\n",
    "mod = community.modularity(p2,b)\n",
    "print(\"euc_modularity:\", mod)"
   ]
  },
  {
   "cell_type": "code",
   "execution_count": null,
   "id": "47663e7a",
   "metadata": {},
   "outputs": [],
   "source": [
    "for com in set(p.values()) :\n",
    "    members = list_nodes = [nodes for nodes in p.keys() if p[nodes] == com]\n",
    "values = [p.get(node) for node in a.nodes()]\n",
    "values = list(p.values())\n",
    "nx.draw_spring(a, cmap = plt.get_cmap('jet'), node_color = values, node_size = 30, with_labels = False)"
   ]
  },
  {
   "cell_type": "code",
   "execution_count": null,
   "id": "800b98a6",
   "metadata": {},
   "outputs": [],
   "source": [
    "for com2 in set(p2.values()) :\n",
    "    members2 = list_nodes2 = [nodes2 for nodes2 in p2.keys() if p2[nodes2] == com2]\n",
    "values2 = [p2.get(node2) for node2 in b.nodes()]\n",
    "values2 = list(p2.values())\n",
    "nx.draw_spring(b, cmap = plt.get_cmap('jet'), node_color = values2, node_size = 30, with_labels = False)"
   ]
  },
  {
   "cell_type": "code",
   "execution_count": null,
   "id": "1563282f",
   "metadata": {},
   "outputs": [],
   "source": [
    "label = np.zeros((len(dot),1))\n",
    "for j in set(p.values()) :\n",
    "    for i in range(len(dot)) :\n",
    "        if p[str(i+1)] == j :            \n",
    "            label[i] =  j\n",
    "label = np.reshape(label, len(dot))      \n",
    "\n",
    "print(label)\n",
    "print(\"label.shape:\", label.shape)\n",
    "\n",
    "label2 = np.zeros((len(dot),1))\n",
    "for j in set(p2.values()) :\n",
    "    for i in range(len(dot)) :\n",
    "        if p2[str(i+1)] == j :            \n",
    "            label2[i] =  j\n",
    "label2 = np.reshape(label2, len(dot))\n",
    "\n",
    "print(label2)\n",
    "print(\"label2.shape:\", label2.shape)"
   ]
  },
  {
   "cell_type": "code",
   "execution_count": null,
   "id": "069fe384",
   "metadata": {},
   "outputs": [],
   "source": [
    "fig = plt.figure()\n",
    "ax = plt.axes(projection='3d')\n",
    "x = dot[:,0]\n",
    "y = dot[:,1]\n",
    "z = dot[:,2]\n",
    "ax1=ax.scatter(x, y, z, c=label, cmap='jet')\n",
    "ax.view_init(80, 0)\n",
    "fig.colorbar(ax1)"
   ]
  },
  {
   "cell_type": "code",
   "execution_count": null,
   "id": "e2effecc",
   "metadata": {},
   "outputs": [],
   "source": [
    "class_ = KMeans(n_clusters=int(len(set(p.values())))).fit_predict(dot)\n",
    "fig = plt.figure()\n",
    "ax = plt.axes(projection='3d')\n",
    "x = dot[:,0]\n",
    "y = dot[:,1]\n",
    "z = dot[:,2]\n",
    "ax1=ax.scatter(x, y, z, c=class_, cmap='jet')\n",
    "ax.view_init(80, 0)\n",
    "fig.colorbar(ax1)"
   ]
  },
  {
   "cell_type": "code",
   "execution_count": null,
   "id": "f8adee90",
   "metadata": {},
   "outputs": [],
   "source": [
    "fig = plt.figure()\n",
    "ax = plt.axes(projection='3d')\n",
    "x = dot[:,0]\n",
    "y = dot[:,1]\n",
    "z = dot[:,2]\n",
    "ax1=ax.scatter(x, y, z, c=label2, cmap='jet')\n",
    "ax.view_init(80, 0)\n",
    "fig.colorbar(ax1)"
   ]
  },
  {
   "cell_type": "code",
   "execution_count": null,
   "id": "b561ee6c",
   "metadata": {},
   "outputs": [],
   "source": [
    "class_ = KMeans(n_clusters=int(len(set(p2.values())))).fit_predict(dot)\n",
    "fig = plt.figure()\n",
    "ax = plt.axes(projection='3d')\n",
    "x = dot[:,0]\n",
    "y = dot[:,1]\n",
    "z = dot[:,2]\n",
    "ax1=ax.scatter(x, y, z, c=class_, cmap='jet')\n",
    "ax.view_init(80, 0)\n",
    "fig.colorbar(ax1)"
   ]
  },
  {
   "cell_type": "code",
   "execution_count": null,
   "id": "5913e203",
   "metadata": {},
   "outputs": [],
   "source": []
  }
 ],
 "metadata": {
  "kernelspec": {
   "display_name": "Python 3",
   "language": "python",
   "name": "python3"
  },
  "language_info": {
   "codemirror_mode": {
    "name": "ipython",
    "version": 3
   },
   "file_extension": ".py",
   "mimetype": "text/x-python",
   "name": "python",
   "nbconvert_exporter": "python",
   "pygments_lexer": "ipython3",
   "version": "3.8.8"
  }
 },
 "nbformat": 4,
 "nbformat_minor": 5
}
